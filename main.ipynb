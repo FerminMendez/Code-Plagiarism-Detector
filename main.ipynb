{
 "cells": [
  {
   "cell_type": "markdown",
   "metadata": {},
   "source": [
    "# Code plagirism detector\n",
    "\n",
    "Fermin Mendez A01703366\n",
    "Adrian Matute\n",
    "Alan Razo A01703350"
   ]
  },
  {
   "cell_type": "markdown",
   "metadata": {},
   "source": [
    "## Import libraries"
   ]
  },
  {
   "cell_type": "code",
   "execution_count": 3,
   "metadata": {},
   "outputs": [],
   "source": [
    "import pandas as pd\n",
    "import os\n",
    "import glob\n",
    "import string\n",
    "import numpy as np\n"
   ]
  },
  {
   "cell_type": "markdown",
   "metadata": {},
   "source": [
    "## Load example data set"
   ]
  },
  {
   "cell_type": "code",
   "execution_count": 6,
   "metadata": {},
   "outputs": [],
   "source": [
    "code_1=\"\"\"\n",
    "public class PalindromeChecker {\n",
    "    public static boolean isPalindrome(String input) {\n",
    "        String clean = input.replaceAll(\"\\\\s+\", \"\").toLowerCase();\n",
    "        String reversed = new StringBuilder(clean).reverse().toString();\n",
    "        return clean.equals(reversed);\n",
    "    }\n",
    "\n",
    "    public static void main(String[] args) {\n",
    "        String test = \"A man a plan a canal Panama\";\n",
    "        if (isPalindrome(test)) {\n",
    "            System.out.println(\"\\\"\" + test + \"\\\" is a palindrome.\");\n",
    "        } else {\n",
    "            System.out.println(\"\\\"\" + test + \"\\\" is not a palindrome.\");\n",
    "        }\n",
    "    }\n",
    "}\n",
    "\"\"\"\n",
    "\n",
    "code_2=\"\"\"\n",
    "public class BubbleSortWithCount {\n",
    "    public static void bubbleSort(int[] arr) {\n",
    "        int swapCount = 0;\n",
    "        for (int i = 0; i < arr.length - 1; i++) {\n",
    "            boolean swapped = false;\n",
    "            for (int j = 0; j < arr.length - i - 1; j++) {\n",
    "                if (arr[j] > arr[j + 1]) {\n",
    "                    // Swap elements\n",
    "                    int temp = arr[j];\n",
    "                    arr[j] = arr[j + 1];\n",
    "                    arr[j + 1] = temp;\n",
    "                    swapped = true;\n",
    "                    swapCount++;\n",
    "                }\n",
    "            }\n",
    "            if (!swapped) break;\n",
    "        }\n",
    "        System.out.println(\"Array sorted with \" + swapCount + \" swaps.\");\n",
    "    }\n",
    "\n",
    "    public static void main(String[] args) {\n",
    "        int[] data = {5, 1, 4, 2, 8};\n",
    "        bubbleSort(data);\n",
    "        for (int n : data) {\n",
    "            System.out.print(n + \" \");\n",
    "        }\n",
    "    }\n",
    "}\n",
    "\"\"\""
   ]
  },
  {
   "cell_type": "code",
   "execution_count": 7,
   "metadata": {},
   "outputs": [],
   "source": [
    "reserved_words_in_java = [\n",
    "    \"abstract\", \"assert\", \"boolean\", \"break\", \"byte\", \"case\", \"catch\", \"char\",\n",
    "    \"class\", \"const\", \"continue\", \"default\", \"do\", \"double\", \"else\", \"enum\",\n",
    "    \"extends\", \"final\", \"finally\", \"float\", \"for\", \"goto\", \"if\", \"implements\",\n",
    "    \"import\", \"instanceof\", \"int\", \"interface\", \"long\", \"native\", \"new\",\n",
    "    \"null\", \"package\", \"private\", \"protected\", \"public\", \"return\",\n",
    "    \"short\", \"static\", \"strictfp\", \"super\", \"switch\", \"synchronized\",\n",
    "    \"this\", \"throw\", \"throws\", \"transient\", \"try\", \"void\",\n",
    "    \"volatile\",  # Added 'volatile' to the list\n",
    "    # 'while' is not included as it is not a reserved word in Java\n",
    "]"
   ]
  },
  {
   "cell_type": "markdown",
   "metadata": {},
   "source": [
    "## Auxiliar functions"
   ]
  },
  {
   "cell_type": "code",
   "execution_count": null,
   "metadata": {},
   "outputs": [],
   "source": [
    "def clearCommentsinJavaCode(code):\n",
    "    \"\"\"\n",
    "    This function removes comments from Java code.\n",
    "    \"\"\"\n",
    "    # Remove single-line comments\n",
    "    code = '\\n'.join([line.split('//')[0] for line in code.split('\\n')])\n",
    "    \n",
    "    # Remove multi-line comments\n",
    "    while '/*' in code and '*/' in code:\n",
    "        start = code.index('/*')\n",
    "        end = code.index('*/', start) + 2\n",
    "        code = code[:start] + code[end:]\n",
    "    \n",
    "    return code"
   ]
  },
  {
   "cell_type": "markdown",
   "metadata": {},
   "source": [
    "## Approach 1. Cosine similarity"
   ]
  },
  {
   "cell_type": "code",
   "execution_count": null,
   "metadata": {},
   "outputs": [],
   "source": [
    "def vectorizeJavaCode(code):\n",
    "   \n",
    "    "
   ]
  }
 ],
 "metadata": {
  "kernelspec": {
   "display_name": "Python 3",
   "language": "python",
   "name": "python3"
  },
  "language_info": {
   "codemirror_mode": {
    "name": "ipython",
    "version": 3
   },
   "file_extension": ".py",
   "mimetype": "text/x-python",
   "name": "python",
   "nbconvert_exporter": "python",
   "pygments_lexer": "ipython3",
   "version": "3.11.9"
  }
 },
 "nbformat": 4,
 "nbformat_minor": 5
}
