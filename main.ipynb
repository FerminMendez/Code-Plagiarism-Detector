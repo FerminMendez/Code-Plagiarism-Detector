{
 "cells": [
  {
   "cell_type": "markdown",
   "metadata": {},
   "source": [
    "# Code plagirism detector\n",
    "\n",
    "Fermin Mendez A01703366\n",
    "\n",
    "Adrian Matute A01703889\n",
    "\n",
    "Alan Razo A01703350"
   ]
  },
  {
   "cell_type": "markdown",
   "metadata": {},
   "source": [
    "## Import libraries"
   ]
  },
  {
   "cell_type": "code",
   "execution_count": 50,
   "metadata": {},
   "outputs": [],
   "source": [
    "import pandas as pd\n",
    "import os\n",
    "import glob\n",
    "import string\n",
    "import numpy as np\n",
    "import re\n",
    "from sklearn.feature_extraction.text import TfidfVectorizer\n",
    "from sklearn.metrics.pairwise import cosine_similarity\n",
    "import javalang\n",
    "from difflib import SequenceMatcher\n"
   ]
  },
  {
   "cell_type": "markdown",
   "metadata": {},
   "source": [
    "## Load example data set"
   ]
  },
  {
   "cell_type": "code",
   "execution_count": 51,
   "metadata": {},
   "outputs": [],
   "source": [
    "code_1 = r\"\"\"\n",
    "public class PalindromeChecker {\n",
    "    public static boolean isPalindrome(String input) {\n",
    "        String clean = input.replaceAll(\"\\\\s+\", \"\").toLowerCase();\n",
    "        String reversed = new StringBuilder(clean).reverse().toString();\n",
    "        return clean.equals(reversed);\n",
    "    }\n",
    "\n",
    "    public static void main(String[] args) {\n",
    "        String test = \"A man a plan a canal Panama\";\n",
    "        if (isPalindrome(test)) {\n",
    "            System.out.println(\"\\\"\" + test + \"\\\" is a palindrome.\");\n",
    "        } else {\n",
    "            System.out.println(\"\\\"\" + test + \"\\\" is not a palindrome.\");\n",
    "        }\n",
    "    }\n",
    "}\n",
    "\"\"\"\n",
    "\n",
    "code_2 = r\"\"\"\n",
    "public class MirrorStringValidator {\n",
    "    public static boolean checkPalindrome(String phrase) {\n",
    "        String formatted = phrase.replaceAll(\"\\\\s+\", \"\").toLowerCase();\n",
    "        String backwards = new StringBuilder(formatted).reverse().toString();\n",
    "\n",
    "        if (formatted.equals(backwards)) {\n",
    "            return true;\n",
    "        }\n",
    "        return false;\n",
    "    }\n",
    "\n",
    "    public static void main(String[] args) {\n",
    "        String sample = \"A man a plan a canal Panama\";\n",
    "        boolean result = checkPalindrome(sample);\n",
    "\n",
    "        if (result == true) {\n",
    "            System.out.println(\"Palindrome confirmed.\");\n",
    "        } else {\n",
    "            System.out.println(\"This is not a palindrome.\");\n",
    "        }\n",
    "    }\n",
    "}\n",
    "\"\"\""
   ]
  },
  {
   "cell_type": "code",
   "execution_count": 52,
   "metadata": {},
   "outputs": [],
   "source": [
    "reserved_words_in_java = [\n",
    "    \"abstract\", \"assert\", \"boolean\", \"break\", \"byte\", \"case\", \"catch\", \"char\",\n",
    "    \"class\", \"const\", \"continue\", \"default\", \"do\", \"double\", \"else\", \"enum\",\n",
    "    \"extends\", \"final\", \"finally\", \"float\", \"for\", \"goto\", \"if\", \"implements\",\n",
    "    \"import\", \"instanceof\", \"int\", \"interface\", \"long\", \"native\", \"new\",\n",
    "    \"null\", \"package\", \"private\", \"protected\", \"public\", \"return\",\n",
    "    \"short\", \"static\", \"strictfp\", \"super\", \"switch\", \"synchronized\",\n",
    "    \"this\", \"throw\", \"throws\", \"transient\", \"try\", \"void\",\n",
    "    \"volatile\",  # Added 'volatile' to the list\n",
    "    # 'while' is not included as it is not a reserved word in Java\n",
    "]"
   ]
  },
  {
   "cell_type": "markdown",
   "metadata": {},
   "source": [
    "## Auxiliar functions"
   ]
  },
  {
   "cell_type": "code",
   "execution_count": 53,
   "metadata": {},
   "outputs": [],
   "source": [
    "def clearCommentsinJavaCode(code):\n",
    "    \"\"\"\n",
    "    This function removes comments from Java code.\n",
    "    \"\"\"\n",
    "    # Remove single-line comments\n",
    "    code = '\\n'.join([line.split('//')[0] for line in code.split('\\n')])\n",
    "    \n",
    "    # Remove multi-line comments\n",
    "    while '/*' in code and '*/' in code:\n",
    "        start = code.index('/*')\n",
    "        end = code.index('*/', start) + 2\n",
    "        code = code[:start] + code[end:]\n",
    "    \n",
    "    return code"
   ]
  },
  {
   "cell_type": "code",
   "execution_count": 54,
   "metadata": {},
   "outputs": [
    {
     "name": "stdout",
     "output_type": "stream",
     "text": [
      "Cosine Similarity between code_1 and code_2: 0.3212\n"
     ]
    }
   ],
   "source": [
    "def vectorizeJavaCode(code, reserved_words_in_java):\n",
    "    code = clearCommentsinJavaCode(code)\n",
    "    code = code.lower()\n",
    "    code = re.sub(r'[^\\w\\s]', '', code)  # Remove punctuation\n",
    "    tokens = code.split()\n",
    "    filtered = [token for token in tokens if token not in reserved_words_in_java]\n",
    "    return ' '.join(filtered)\n",
    "\n",
    "# Process example java codes\n",
    "code_1_vectorized = vectorizeJavaCode(code_1, reserved_words_in_java)\n",
    "code_2_vectorized = vectorizeJavaCode(code_2, reserved_words_in_java)\n",
    "\n",
    "# Vectorize the code snippets\n",
    "vectorizer = TfidfVectorizer()\n",
    "tfidf_matrix = vectorizer.fit_transform([code_1_vectorized, code_2_vectorized])\n",
    "similarity = cosine_similarity(tfidf_matrix[0:1], tfidf_matrix[1:2])\n",
    "print(f\"Cosine Similarity between code_1 and code_2: {similarity[0][0]:.4f}\")\n",
    "    \n",
    "    "
   ]
  },
  {
   "cell_type": "markdown",
   "id": "fdf14f22",
   "metadata": {},
   "source": [
    "## Approach 2. AST "
   ]
  },
  {
   "cell_type": "code",
   "execution_count": 55,
   "id": "e6b65d3b",
   "metadata": {},
   "outputs": [],
   "source": [
    "def parse_java_code(code):\n",
    "    try:\n",
    "        tokens = javalang.tokenizer.tokenize(code)\n",
    "        parser = javalang.parser.Parser(tokens)\n",
    "        tree = parser.parse()\n",
    "        return tree\n",
    "    except Exception as e:\n",
    "        print(f\"Error parsing code: {e}\")\n",
    "        return None"
   ]
  },
  {
   "cell_type": "code",
   "execution_count": null,
   "id": "4fc906f7",
   "metadata": {},
   "outputs": [],
   "source": [
    "def extract_ast_features(tree):\n",
    "    features = []\n",
    "    for path, node in tree:\n",
    "        features.append(str(type(node).__name__))\n",
    "    return features"
   ]
  },
  {
   "cell_type": "code",
   "execution_count": 57,
   "id": "1d50516b",
   "metadata": {},
   "outputs": [],
   "source": [
    "def ast_similarity(code1, code2):\n",
    "    tree1 = parse_java_code(code1)\n",
    "    tree2 = parse_java_code(code2)\n",
    "    \n",
    "    if not tree1 or not tree2:\n",
    "        return 0.0\n",
    "    \n",
    "    features1 = extract_ast_features(tree1)\n",
    "    features2 = extract_ast_features(tree2)\n",
    "    \n",
    "    # Usar SequenceMatcher para comparar secuencias de nodos\n",
    "    similarity = SequenceMatcher(None, features1, features2).ratio()\n",
    "    return similarity"
   ]
  },
  {
   "cell_type": "code",
   "execution_count": null,
   "id": "74136c8c",
   "metadata": {},
   "outputs": [
    {
     "name": "stdout",
     "output_type": "stream",
     "text": [
      "AST Similarity between code_1 and code_2: 0.7767\n"
     ]
    },
    {
     "data": {
      "text/plain": [
       "0.7766990291262136"
      ]
     },
     "execution_count": 58,
     "metadata": {},
     "output_type": "execute_result"
    }
   ],
   "source": [
    "def ast_similarity_analysis(code1, code2):\n",
    "    # Parsear códigos\n",
    "    tree1 = parse_java_code(code1)\n",
    "    tree2 = parse_java_code(code2)\n",
    "    \n",
    "    if not tree1 or not tree2:\n",
    "        print(\"Error: Could not parse one or both code snippets.\")\n",
    "        return 0.0\n",
    "    \n",
    "    # Extraer características\n",
    "    features1 = extract_ast_features(tree1)\n",
    "    features2 = extract_ast_features(tree2)\n",
    "    \n",
    "    # Calcular similitud\n",
    "    similarity = SequenceMatcher(None, features1, features2).ratio()\n",
    "    print(f\"AST Similarity between code_1 and code_2: {similarity:.4f}\")\n",
    "    return similarity\n",
    "\n",
    "# Ejecutar análisis\n",
    "ast_similarity_analysis(code_1, code_2)"
   ]
  }
 ],
 "metadata": {
  "kernelspec": {
   "display_name": "Python 3",
   "language": "python",
   "name": "python3"
  },
  "language_info": {
   "codemirror_mode": {
    "name": "ipython",
    "version": 3
   },
   "file_extension": ".py",
   "mimetype": "text/x-python",
   "name": "python",
   "nbconvert_exporter": "python",
   "pygments_lexer": "ipython3",
   "version": "3.13.3"
  }
 },
 "nbformat": 4,
 "nbformat_minor": 5
}
